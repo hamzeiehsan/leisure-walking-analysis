{
 "cells": [
  {
   "cell_type": "code",
   "execution_count": 1,
   "metadata": {},
   "outputs": [],
   "source": [
    "# sys\n",
    "import sys\n",
    "\n",
    "# warning off\n",
    "import warnings\n",
    "# IO\n",
    "import json\n",
    "\n",
    "# logging\n",
    "from loguru import logger\n",
    "\n",
    "# set logger level\n",
    "logger.remove(0)\n",
    "logger.add(sys.stderr, level=\"INFO\")\n",
    "\n",
    "warnings.filterwarnings(\"ignore\")"
   ]
  },
  {
   "cell_type": "code",
   "execution_count": 2,
   "metadata": {},
   "outputs": [],
   "source": [
    "# reading annotation files\n",
    "with open('dataset/annotations.json') as fp:\n",
    "    raw_annotations = json.load(fp)\n",
    "\n",
    "with open('dataset/annotated-osm-entities.json') as fp:\n",
    "    second_annotator = json.load(fp)"
   ]
  },
  {
   "cell_type": "code",
   "execution_count": 15,
   "metadata": {},
   "outputs": [
    {
     "name": "stderr",
     "output_type": "stream",
     "text": [
      "\u001b[32m2024-06-23 21:11:21.525\u001b[0m | \u001b[1mINFO    \u001b[0m | \u001b[36m__main__\u001b[0m:\u001b[36m<module>\u001b[0m:\u001b[36m16\u001b[0m - \u001b[1mtotal annotations: 664\u001b[0m\n"
     ]
    }
   ],
   "source": [
    "first_annotator = {}\n",
    "for annotation_record in raw_annotations:\n",
    "    page = None\n",
    "    annotation = []\n",
    "    for info in annotation_record:\n",
    "        if 'page' in info.keys():\n",
    "            page = str(info['page'])\n",
    "        elif 'type' in info.keys() and 'osm_id' in info.keys():\n",
    "            annotation.append(f\"{info['type']}:{info['osm_id']}\")\n",
    "        else:\n",
    "            logger.error(f'structural issues: {info}')\n",
    "\n",
    "    if page is not None:\n",
    "        first_annotator[page] = annotation\n",
    "\n",
    "logger.info(f'total annotations: {len(first_annotator)}')"
   ]
  },
  {
   "cell_type": "code",
   "execution_count": 16,
   "metadata": {},
   "outputs": [
    {
     "data": {
      "text/plain": [
       "['way:69366108', 'way:69366081']"
      ]
     },
     "execution_count": 16,
     "metadata": {},
     "output_type": "execute_result"
    }
   ],
   "source": [
    "first_annotator['6']"
   ]
  },
  {
   "cell_type": "code",
   "execution_count": 19,
   "metadata": {},
   "outputs": [],
   "source": [
    "processed_second_annotator = {}\n",
    "for key, values in second_annotator.items():\n",
    "    new_values = []\n",
    "    for v in values:\n",
    "        if len(v) != 2:\n",
    "            logger.info(f'structural issue in second annotator results: {key}: {v}')\n",
    "        new_values.append(f\"{v[0]}:{v[1]}\")\n",
    "    processed_second_annotator[key] = new_values"
   ]
  },
  {
   "cell_type": "code",
   "execution_count": 20,
   "metadata": {},
   "outputs": [
    {
     "data": {
      "text/plain": [
       "[['way', '69366108'], ['node', '5315720235']]"
      ]
     },
     "execution_count": 20,
     "metadata": {},
     "output_type": "execute_result"
    }
   ],
   "source": [
    "second_annotator['6']"
   ]
  },
  {
   "cell_type": "code",
   "execution_count": 21,
   "metadata": {},
   "outputs": [
    {
     "data": {
      "text/plain": [
       "['way:69366108', 'node:5315720235']"
      ]
     },
     "execution_count": 21,
     "metadata": {},
     "output_type": "execute_result"
    }
   ],
   "source": [
    "processed_second_annotator['6']"
   ]
  },
  {
   "cell_type": "code",
   "execution_count": 22,
   "metadata": {},
   "outputs": [],
   "source": [
    "second_annotator = processed_second_annotator"
   ]
  },
  {
   "cell_type": "code",
   "execution_count": 23,
   "metadata": {},
   "outputs": [
    {
     "data": {
      "text/plain": [
       "['way:69366108']"
      ]
     },
     "execution_count": 23,
     "metadata": {},
     "output_type": "execute_result"
    }
   ],
   "source": [
    "list(set(second_annotator['6']).intersection(first_annotator['6']))"
   ]
  },
  {
   "cell_type": "code",
   "execution_count": 25,
   "metadata": {},
   "outputs": [
    {
     "name": "stderr",
     "output_type": "stream",
     "text": [
      "\u001b[32m2024-06-23 21:14:15.091\u001b[0m | \u001b[1mINFO    \u001b[0m | \u001b[36m__main__\u001b[0m:\u001b[36m<module>\u001b[0m:\u001b[36m11\u001b[0m - \u001b[1mnot annotated by first annotator: 20\u001b[0m\n"
     ]
    }
   ],
   "source": [
    "matched = []\n",
    "not_matched_from_first = []\n",
    "not_matched_from_second = []\n",
    "\n",
    "# agreed_first_and_second =[]\n",
    "first_found = []\n",
    "second_found = []\n",
    "total = []\n",
    "for poi_id, values in second_annotator.items():\n",
    "    if poi_id not in first_annotator.keys():\n",
    "        logger.info(f'not annotated by first annotator: {poi_id}')\n",
    "        continue\n",
    "    total.append(poi_id)\n",
    "    first_values = first_annotator[poi_id]\n",
    "    if len(values) > 0:\n",
    "        second_found.append(poi_id)\n",
    "    if len(first_values) > 0:\n",
    "        first_found.append(poi_id)\n",
    "    shared_osm_ids = list(set(second_annotator[poi_id]).intersection(first_annotator[poi_id]))\n",
    "    matched.extend(shared_osm_ids)\n",
    "    not_matched_from_first.extend([f for f in first_values if f not in shared_osm_ids])\n",
    "    not_matched_from_second.extend([s for s in values if s not in shared_osm_ids])"
   ]
  },
  {
   "cell_type": "code",
   "execution_count": 27,
   "metadata": {},
   "outputs": [
    {
     "name": "stderr",
     "output_type": "stream",
     "text": [
      "\u001b[32m2024-06-23 21:15:53.907\u001b[0m | \u001b[1mINFO    \u001b[0m | \u001b[36m__main__\u001b[0m:\u001b[36m<module>\u001b[0m:\u001b[36m2\u001b[0m - \u001b[1mtotal overlap: 349 - first founds: 240 - second founds: 205 - shared: 187\u001b[0m\n"
     ]
    }
   ],
   "source": [
    "shared_founds = list(set(second_found).intersection(first_found))\n",
    "logger.info(f'total overlap: {len(total)} - first founds: {len(first_found)} - second founds: {len(second_found)} - shared: {len(shared_founds)}')"
   ]
  },
  {
   "cell_type": "code",
   "execution_count": null,
   "metadata": {},
   "outputs": [],
   "source": [
    "logger.info(f'matched: {len(matched)} - not matched from first: {len(not_matched_from_first)} - not matched from second: {len(not_matched_from_second)}')"
   ]
  },
  {
   "cell_type": "code",
   "execution_count": null,
   "metadata": {},
   "outputs": [],
   "source": []
  }
 ],
 "metadata": {
  "kernelspec": {
   "display_name": "Python 3",
   "language": "python",
   "name": "python3"
  },
  "language_info": {
   "codemirror_mode": {
    "name": "ipython",
    "version": 3
   },
   "file_extension": ".py",
   "mimetype": "text/x-python",
   "name": "python",
   "nbconvert_exporter": "python",
   "pygments_lexer": "ipython3",
   "version": "3.11.7"
  }
 },
 "nbformat": 4,
 "nbformat_minor": 2
}
